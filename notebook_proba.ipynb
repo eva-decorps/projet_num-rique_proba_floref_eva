{
 "cells": [
  {
   "cell_type": "markdown",
   "metadata": {},
   "source": [
    "# Enoncé du problème\n",
    "\n",
    "L'objectif de ce projet est d'estimer la longueur de câble sous-marin nécessaire pour relier deux côtes $A$ et $B$  en utilisant des simulations conditionnelles.\n",
    "\n",
    "\n",
    "Le câble reposera sur le fond marin dont la profondeur est inconnue.\n",
    "Le segment $[AB]$ est discrétisé par une séquence de (N+1) points. On pose $x_0=A$ et pour $i=1,\\dots,N$, $$x_i=x_0+i\\Delta$$ où $$\\Delta = \\frac{AB}{N}$$ de telle sorte que $x_N=B$.\n",
    "On note $z(x)$ la profondeur du fond marin au point $x$ de telle sorte \n",
    "qu'on pourra estimer la longueur totale de câble nécessaire par la somme \n",
    "des longueurs sur les segments de la discrétisation :\n",
    "\n",
    "$$l=\\sum_{i=1}^N\\sqrt{\\Delta^2+(z(x_i)-z(x_{i-1}))^2}.$$\n",
    "\n",
    "Enfin, notons que l'on dispose d'un ensemble de $n$ observations de la \n",
    "profondeur que l'on supposera situées sur des points de discrétisation $z(x_{j_1}),\\dots,z(x_{j_n})$.\n",
    "\n",
    "\n",
    "On adopte un modèle probabiliste pour la profondeur. On suppose que le vecteur des \n",
    "profondeurs sur les points de discrétisation \n",
    "$\\mathbf{z}=(z(x_0),\\dots,z(x_N))$ est la réalisation\n",
    "d'un vecteur aléatoire gaussien $\\mathbf{Z}=(Z(x_0),\\dots,Z(x_N))$ \n",
    "dont le vecteur d'espérance ne contient qu'une seule valeur $\\mu$ \n",
    "répétée $N+1$ fois et dont la matrice de covariance $\\Sigma$ a pour termes $\\sigma_{ij}$\n",
    "définis par $\\sigma_{ij}=C(|x_i-x_j|)$ où $C$ est une\n",
    "fonction décroissante, traduisant le fait que deux points \n",
    "géographiquement proches ont tendance à avoir des profondeurs plus similaires que deux points éloignés.\n",
    "\n",
    "On supposera que la matrice de covariance ainsi \n",
    "générée est définie-positive (en fait, $C$ sera choisie parmi les fonctions qui, \n",
    "appliquées aux termes d'une matrice de distance, produisent des matrices définie-positives). \n",
    "\n",
    "Si on note $L$ la variable aléatoire donnant la longueur de cable nécessaire : \n",
    "$$L=\\sum_{i=1}^N\\sqrt{\\Delta^2+(Z(x_i)-Z(x_{i-1}))^2},$$\n",
    "un bon estimateur de $L$ est fourni par l'espérance conditionnelle \n",
    "\n",
    "$$L^\\star=E[L|Z(x_{j_1})=z(x_{j_1}),\\dots,Z(x_{j_n})=z(x_{j_n})].$$\n",
    "                                                                              \n",
    "Cependant, cette quantité est difficilement accessible par le calcul. \n",
    "On va donc avoir recours à des\n",
    "simulations conditionnelles. C'est-à-dire que l'on va simuler \n",
    "un nombre $K$ de réalités (disons des réalisations du modèle \n",
    "probabiliste choisi), et sur chacune d'entre elle, \n",
    "la quantité de câble nécessaire sera évaluée. \n",
    "On disposera ainsi d'un échantillon $l_{(1)},\\dots,l_{(K)}$ de \n",
    "longueures simulées. Puis on approchera l'espérance conditionnelle  par \n",
    "$$L^\\star=\\sum_{k=1}^K l_{(k)}.$$\n",
    "\n",
    "L'objectif de ce projet est donc d'écrire un code permettant \n",
    "d'effectuer cette simulation conditionnelle, puis de l'appliquer \n",
    "au jeu de données fourni et d'en déduire une estimation de la longueur de câble nécessaire."
   ]
  },
  {
   "cell_type": "markdown",
   "metadata": {},
   "source": [
    "# Questions théoriques\n",
    "\n",
    "1. Quel théorème du cours nous autorise-t-il à estimer l'espérance conditionnelle par la moyenne empirique de simulations conditionnelles ?\n",
    "\n",
    "2. Rappeler la loi conditionnelle du vecteur des composantes de $\\mathbf{Z}$ correspondant aux points de discrétisation\n",
    "sans observation, connaissant les valeurs prises par les composantes aux sites d'observation.\n",
    "\n",
    "3. Si $\\mathbf{Y}=(Y_1,\\dots,Y_p)$ est un vecteur de composantes gaussiennes indépendantes, toutes d'espérance nulle et de variance 1, \n",
    "quelle est la loi du vecteur $\\mathbf{Z}=m+R\\mathbf{Y}$ où $R$ est une matrice $p\\times p$ et $m$ est un vecteur de taille $p$ ?\n",
    "\n",
    "4. En déduire un algorithme de simulation conditionnelle."
   ]
  },
  {
   "cell_type": "markdown",
   "metadata": {},
   "source": [
    "### Question 1\n",
    "Le théorème nous permettant d'approcher l'espérance conditionnelle par la moyenne empirique de simulations conditionnelles est la loi des grands nombre appliquée à la suite : ...\n",
    "\n",
    "### Question 2\n",
    "On note : $Y = (Z(x_{i}))_{i\\neq (j_{1} \\dots j_{n})}$  \n",
    "et $X = (Z(x_{j_{i}})_{i \\in \\{1 \\dots n\\}}$  \n",
    "et $x = z(x_{j_{i}}$\n",
    "On a, pour tout $A$ borélien de $\\mathbf{R}^{N-n}$: \n",
    "\\begin{align}\n",
    "P_{(Y | X = x) &= \\int_{A} P_{Y|X=x}(dy) \\notag \\\\\n",
    "&= \\int_{A} f_{Y|X=x}(y)dy \\notag \\\\\n",
    "&= \\int_{A} \\frac{1}{2 \\pi ^{\\frac{n+1}{2} \\sqrt det(CS_{Y})} } dy\n",
    "\\end{align}\n",
    "p13\n",
    "\n",
    "### Question 3\n",
    "Déjà fait dans le cas réel, on généralise facilement au cas vectoriel sinon p11\n",
    "\n",
    "### Question 4\n",
    "On simule Z avec Box-Muller cf p11 "
   ]
  },
  {
   "cell_type": "markdown",
   "metadata": {},
   "source": [
    "# Données du problème\n",
    "Conventionnellement, $A$ est l'origine, $B=500$, $N=100$.\n",
    "\n",
    "Les données $$\\begin{array}{c|r}i & z(x_i)\\\\\n",
    "\\hline\n",
    "0 & 0\\\\\n",
    "20 & -4\\\\\n",
    "40 & -12.8\\\\\n",
    "60 & -1\\\\\n",
    "80 & -6.5\\\\\n",
    "100 & 0\\end{array}$$\n",
    "\n",
    "L'espérance de chaque composante du vecteur aléatoire $\\mathbf{Z}$ est donnée par $\\mu=-5.$\n",
    "\n",
    "La fonction $C$ est définie par $$C(h)=\\sigma^2 e^{-|h|/a},$$\n",
    "\n",
    "où $|h|$ correspond à la distance entre deux points, $a=50$ et $\\sigma^2=12$.\n"
   ]
  },
  {
   "cell_type": "markdown",
   "metadata": {},
   "source": [
    "# Implémentation"
   ]
  },
  {
   "cell_type": "markdown",
   "metadata": {},
   "source": [
    "## Préambule"
   ]
  },
  {
   "cell_type": "code",
   "execution_count": 28,
   "metadata": {
    "collapsed": true
   },
   "outputs": [],
   "source": [
    "#Chargement de dépendances\n",
    "\n",
    "import numpy as np\n",
    "import matplotlib.pyplot as plt\n",
    "from math import *\n",
    "\n",
    "#Discrétisation\n",
    "A=0\n",
    "B=500\n",
    "N=101 #Nombre de points de discrétisation\n",
    "n=6\n",
    "Delta = (B-A)/(N-1)\n",
    "discretization_indexes = np.arange(N)\n",
    "discretization = discretization_indexes*Delta\n",
    "#Paramètres du modèle\n",
    "\n",
    "mu=-5\n",
    "a = 50\n",
    "sigma2 = 12\n",
    "\n",
    "#Données\n",
    "\n",
    "observation_indexes = [0,20,40,60,80,100]\n",
    "z = np.array([0,-4,-12.8,-1,-6.5,0])\n",
    "\n",
    "#Indices des composantes correspondant aux observations et aux componsantes non observées\n",
    "\n",
    "unknown_indexes=list(set(discretization_indexes)-set(observation_indexes))\n"
   ]
  },
  {
   "cell_type": "markdown",
   "metadata": {},
   "source": [
    "## Questions\n",
    "\n",
    "Ecrire une fonction qui prend en argument la distance entre les points, le paramètre $a$, et le paramètre $\\sigma^2$, et qui retourne la covariance entre deux points.\n",
    "On pourra fournir une matrice de distance à cette fonction. Dans ce cas, la fonction renverra la matrice de covariance."
   ]
  },
  {
   "cell_type": "code",
   "execution_count": 12,
   "metadata": {
    "collapsed": true
   },
   "outputs": [],
   "source": [
    "def c(h,a,sigma2):\n",
    "    return (sigma2*np.exp(-abs(h)/a))\n",
    "\n",
    "def C(H,a,sigma2):\n",
    "    return(np.vectorize(c)(H,a,sigma2))"
   ]
  },
  {
   "cell_type": "markdown",
   "metadata": {},
   "source": [
    "Calculer la matrice de distance."
   ]
  },
  {
   "cell_type": "code",
   "execution_count": 13,
   "metadata": {},
   "outputs": [
    {
     "name": "stdout",
     "output_type": "stream",
     "text": [
      "[[  0   5  10 ..., 490 495 500]\n",
      " [  5   0   5 ..., 485 490 495]\n",
      " [ 10   5   0 ..., 480 485 490]\n",
      " ..., \n",
      " [490 485 480 ...,   0   5  10]\n",
      " [495 490 485 ...,   5   0   5]\n",
      " [500 495 490 ...,  10   5   0]]\n"
     ]
    }
   ],
   "source": [
    "x_0=0\n",
    "N=100\n",
    "Delta=5\n",
    "x=[x_0+i*Delta for i in range(N+1)]\n",
    "H=np.array([[abs(x[j]-x[i]) for i in range (N+1)] for j in range (N+1)])\n",
    "print (H)"
   ]
  },
  {
   "cell_type": "markdown",
   "metadata": {},
   "source": [
    "Calculer la matrice de covariance du vecteur $\\mathbf{Z}=(Z(x_0),\\dots,Z(x_N))$."
   ]
  },
  {
   "cell_type": "code",
   "execution_count": 15,
   "metadata": {},
   "outputs": [
    {
     "name": "stdout",
     "output_type": "stream",
     "text": [
      "[[  1.20000000e+01   1.08580490e+01   9.82476904e+00 ...,   6.65419193e-04\n",
      "    6.02096185e-04   5.44799157e-04]\n",
      " [  1.08580490e+01   1.20000000e+01   1.08580490e+01 ...,   7.35401941e-04\n",
      "    6.65419193e-04   6.02096185e-04]\n",
      " [  9.82476904e+00   1.08580490e+01   1.20000000e+01 ...,   8.12744838e-04\n",
      "    7.35401941e-04   6.65419193e-04]\n",
      " ..., \n",
      " [  6.65419193e-04   7.35401941e-04   8.12744838e-04 ...,   1.20000000e+01\n",
      "    1.08580490e+01   9.82476904e+00]\n",
      " [  6.02096185e-04   6.65419193e-04   7.35401941e-04 ...,   1.08580490e+01\n",
      "    1.20000000e+01   1.08580490e+01]\n",
      " [  5.44799157e-04   6.02096185e-04   6.65419193e-04 ...,   9.82476904e+00\n",
      "    1.08580490e+01   1.20000000e+01]]\n"
     ]
    }
   ],
   "source": [
    "C=C(H,a,sigma2)\n",
    "print(C)"
   ]
  },
  {
   "cell_type": "markdown",
   "metadata": {},
   "source": [
    "Extraire les 3 matrices de covariance suivantes :\n",
    "\n",
    " * entre les observations\n",
    "\n",
    " * entre les observations et les inconnues\n",
    "\n",
    " * entre les inconnues\n"
   ]
  },
  {
   "cell_type": "code",
   "execution_count": 21,
   "metadata": {},
   "outputs": [
    {
     "name": "stdout",
     "output_type": "stream",
     "text": [
      "[[  1.20000000e+01   1.62402340e+00   2.19787667e-01   2.97450261e-02\n",
      "    4.02555153e-03   5.44799157e-04]\n",
      " [  1.62402340e+00   1.20000000e+01   1.62402340e+00   2.19787667e-01\n",
      "    2.97450261e-02   4.02555153e-03]\n",
      " [  2.19787667e-01   1.62402340e+00   1.20000000e+01   1.62402340e+00\n",
      "    2.19787667e-01   2.97450261e-02]\n",
      " [  2.97450261e-02   2.19787667e-01   1.62402340e+00   1.20000000e+01\n",
      "    1.62402340e+00   2.19787667e-01]\n",
      " [  4.02555153e-03   2.97450261e-02   2.19787667e-01   1.62402340e+00\n",
      "    1.20000000e+01   1.62402340e+00]\n",
      " [  5.44799157e-04   4.02555153e-03   2.97450261e-02   2.19787667e-01\n",
      "    1.62402340e+00   1.20000000e+01]]\n",
      "[[  1.08580490e+01   1.79482343e+00   2.42902937e-01   3.28733378e-02\n",
      "    4.44892249e-03   6.02096185e-04]\n",
      " [  9.82476904e+00   1.98358666e+00   2.68449262e-01   3.63306569e-02\n",
      "    4.91681975e-03   6.65419193e-04]\n",
      " [  8.88981865e+00   2.19220229e+00   2.96682318e-01   4.01515855e-02\n",
      "    5.43392619e-03   7.35401941e-04]\n",
      " [  8.04384055e+00   2.42275822e+00   3.27884669e-01   4.43743646e-02\n",
      "    6.00541720e-03   8.12744838e-04]\n",
      " [  7.27836792e+00   2.67756192e+00   3.62368601e-01   4.90412573e-02\n",
      "    6.63701244e-03   8.98221959e-04]\n",
      " [  6.58573963e+00   2.95916357e+00   4.00479240e-01   5.41989713e-02\n",
      "    7.33503313e-03   9.92688787e-04]\n",
      " [  5.95902365e+00   3.27038152e+00   4.42598009e-01   5.98991269e-02\n",
      "    8.10646530e-03   1.09709078e-03]\n",
      " [  5.39194757e+00   3.61433054e+00   4.89146448e-01   6.61987730e-02\n",
      "    8.95902970e-03   1.21247282e-03]\n",
      " [  4.87883592e+00   3.99445300e+00   5.40590429e-01   7.31609588e-02\n",
      "    9.90125908e-03   1.33998970e-03]\n",
      " [  4.41455329e+00   4.41455329e+00   5.97444820e-01   8.08553640e-02\n",
      "    1.09425836e-02   1.48091765e-03]\n",
      " [  3.99445300e+00   4.87883592e+00   6.60278641e-01   8.93589969e-02\n",
      "    1.20934251e-02   1.63666712e-03]\n",
      " [  3.61433054e+00   5.39194757e+00   7.29720752e-01   9.87569646e-02\n",
      "    1.33653018e-02   1.80879690e-03]\n",
      " [  3.27038152e+00   5.95902365e+00   8.06466153e-01   1.09143325e-01\n",
      "    1.47709428e-02   1.99902973e-03]\n",
      " [  2.95916357e+00   6.58573963e+00   8.91282939e-01   1.20622029e-01\n",
      "    1.63244165e-02   2.20926952e-03]\n",
      " [  2.67756192e+00   7.27836792e+00   9.85019983e-01   1.33307958e-01\n",
      "    1.80412703e-02   2.44162043e-03]\n",
      " [  2.42275822e+00   8.04384055e+00   1.08861544e+00   1.47328079e-01\n",
      "    1.99386873e-02   2.69840789e-03]\n",
      " [  2.19220229e+00   8.88981865e+00   1.20310612e+00   1.62822708e-01\n",
      "    2.20356573e-02   2.98220193e-03]\n",
      " [  1.98358666e+00   9.82476904e+00   1.32963790e+00   1.79946922e-01\n",
      "    2.43531676e-02   3.29584284e-03]\n",
      " [  1.79482343e+00   1.08580490e+01   1.46947714e+00   1.98872105e-01\n",
      "    2.69144126e-02   3.64246966e-03]\n",
      " [  1.46947714e+00   1.08580490e+01   1.79482343e+00   2.42902937e-01\n",
      "    3.28733378e-02   4.44892249e-03]\n",
      " [  1.32963790e+00   9.82476904e+00   1.98358666e+00   2.68449262e-01\n",
      "    3.63306569e-02   4.91681975e-03]\n",
      " [  1.20310612e+00   8.88981865e+00   2.19220229e+00   2.96682318e-01\n",
      "    4.01515855e-02   5.43392619e-03]\n",
      " [  1.08861544e+00   8.04384055e+00   2.42275822e+00   3.27884669e-01\n",
      "    4.43743646e-02   6.00541720e-03]\n",
      " [  9.85019983e-01   7.27836792e+00   2.67756192e+00   3.62368601e-01\n",
      "    4.90412573e-02   6.63701244e-03]\n",
      " [  8.91282939e-01   6.58573963e+00   2.95916357e+00   4.00479240e-01\n",
      "    5.41989713e-02   7.33503313e-03]\n",
      " [  8.06466153e-01   5.95902365e+00   3.27038152e+00   4.42598009e-01\n",
      "    5.98991269e-02   8.10646530e-03]\n",
      " [  7.29720752e-01   5.39194757e+00   3.61433054e+00   4.89146448e-01\n",
      "    6.61987730e-02   8.95902970e-03]\n",
      " [  6.60278641e-01   4.87883592e+00   3.99445300e+00   5.40590429e-01\n",
      "    7.31609588e-02   9.90125908e-03]\n",
      " [  5.97444820e-01   4.41455329e+00   4.41455329e+00   5.97444820e-01\n",
      "    8.08553640e-02   1.09425836e-02]\n",
      " [  5.40590429e-01   3.99445300e+00   4.87883592e+00   6.60278641e-01\n",
      "    8.93589969e-02   1.20934251e-02]\n",
      " [  4.89146448e-01   3.61433054e+00   5.39194757e+00   7.29720752e-01\n",
      "    9.87569646e-02   1.33653018e-02]\n",
      " [  4.42598009e-01   3.27038152e+00   5.95902365e+00   8.06466153e-01\n",
      "    1.09143325e-01   1.47709428e-02]\n",
      " [  4.00479240e-01   2.95916357e+00   6.58573963e+00   8.91282939e-01\n",
      "    1.20622029e-01   1.63244165e-02]\n",
      " [  3.62368601e-01   2.67756192e+00   7.27836792e+00   9.85019983e-01\n",
      "    1.33307958e-01   1.80412703e-02]\n",
      " [  3.27884669e-01   2.42275822e+00   8.04384055e+00   1.08861544e+00\n",
      "    1.47328079e-01   1.99386873e-02]\n",
      " [  2.96682318e-01   2.19220229e+00   8.88981865e+00   1.20310612e+00\n",
      "    1.62822708e-01   2.20356573e-02]\n",
      " [  2.68449262e-01   1.98358666e+00   9.82476904e+00   1.32963790e+00\n",
      "    1.79946922e-01   2.43531676e-02]\n",
      " [  2.42902937e-01   1.79482343e+00   1.08580490e+01   1.46947714e+00\n",
      "    1.98872105e-01   2.69144126e-02]\n",
      " [  1.98872105e-01   1.46947714e+00   1.08580490e+01   1.79482343e+00\n",
      "    2.42902937e-01   3.28733378e-02]\n",
      " [  1.79946922e-01   1.32963790e+00   9.82476904e+00   1.98358666e+00\n",
      "    2.68449262e-01   3.63306569e-02]\n",
      " [  1.62822708e-01   1.20310612e+00   8.88981865e+00   2.19220229e+00\n",
      "    2.96682318e-01   4.01515855e-02]\n",
      " [  1.47328079e-01   1.08861544e+00   8.04384055e+00   2.42275822e+00\n",
      "    3.27884669e-01   4.43743646e-02]\n",
      " [  1.33307958e-01   9.85019983e-01   7.27836792e+00   2.67756192e+00\n",
      "    3.62368601e-01   4.90412573e-02]\n",
      " [  1.20622029e-01   8.91282939e-01   6.58573963e+00   2.95916357e+00\n",
      "    4.00479240e-01   5.41989713e-02]\n",
      " [  1.09143325e-01   8.06466153e-01   5.95902365e+00   3.27038152e+00\n",
      "    4.42598009e-01   5.98991269e-02]\n",
      " [  9.87569646e-02   7.29720752e-01   5.39194757e+00   3.61433054e+00\n",
      "    4.89146448e-01   6.61987730e-02]\n",
      " [  8.93589969e-02   6.60278641e-01   4.87883592e+00   3.99445300e+00\n",
      "    5.40590429e-01   7.31609588e-02]\n",
      " [  8.08553640e-02   5.97444820e-01   4.41455329e+00   4.41455329e+00\n",
      "    5.97444820e-01   8.08553640e-02]\n",
      " [  7.31609588e-02   5.40590429e-01   3.99445300e+00   4.87883592e+00\n",
      "    6.60278641e-01   8.93589969e-02]\n",
      " [  6.61987730e-02   4.89146448e-01   3.61433054e+00   5.39194757e+00\n",
      "    7.29720752e-01   9.87569646e-02]\n",
      " [  5.98991269e-02   4.42598009e-01   3.27038152e+00   5.95902365e+00\n",
      "    8.06466153e-01   1.09143325e-01]\n",
      " [  5.41989713e-02   4.00479240e-01   2.95916357e+00   6.58573963e+00\n",
      "    8.91282939e-01   1.20622029e-01]\n",
      " [  4.90412573e-02   3.62368601e-01   2.67756192e+00   7.27836792e+00\n",
      "    9.85019983e-01   1.33307958e-01]\n",
      " [  4.43743646e-02   3.27884669e-01   2.42275822e+00   8.04384055e+00\n",
      "    1.08861544e+00   1.47328079e-01]\n",
      " [  4.01515855e-02   2.96682318e-01   2.19220229e+00   8.88981865e+00\n",
      "    1.20310612e+00   1.62822708e-01]\n",
      " [  3.63306569e-02   2.68449262e-01   1.98358666e+00   9.82476904e+00\n",
      "    1.32963790e+00   1.79946922e-01]\n",
      " [  3.28733378e-02   2.42902937e-01   1.79482343e+00   1.08580490e+01\n",
      "    1.46947714e+00   1.98872105e-01]\n",
      " [  2.69144126e-02   1.98872105e-01   1.46947714e+00   1.08580490e+01\n",
      "    1.79482343e+00   2.42902937e-01]\n",
      " [  2.43531676e-02   1.79946922e-01   1.32963790e+00   9.82476904e+00\n",
      "    1.98358666e+00   2.68449262e-01]\n",
      " [  2.20356573e-02   1.62822708e-01   1.20310612e+00   8.88981865e+00\n",
      "    2.19220229e+00   2.96682318e-01]\n",
      " [  1.99386873e-02   1.47328079e-01   1.08861544e+00   8.04384055e+00\n",
      "    2.42275822e+00   3.27884669e-01]\n",
      " [  1.80412703e-02   1.33307958e-01   9.85019983e-01   7.27836792e+00\n",
      "    2.67756192e+00   3.62368601e-01]\n",
      " [  1.63244165e-02   1.20622029e-01   8.91282939e-01   6.58573963e+00\n",
      "    2.95916357e+00   4.00479240e-01]\n",
      " [  1.47709428e-02   1.09143325e-01   8.06466153e-01   5.95902365e+00\n",
      "    3.27038152e+00   4.42598009e-01]\n",
      " [  1.33653018e-02   9.87569646e-02   7.29720752e-01   5.39194757e+00\n",
      "    3.61433054e+00   4.89146448e-01]\n",
      " [  1.20934251e-02   8.93589969e-02   6.60278641e-01   4.87883592e+00\n",
      "    3.99445300e+00   5.40590429e-01]\n",
      " [  1.09425836e-02   8.08553640e-02   5.97444820e-01   4.41455329e+00\n",
      "    4.41455329e+00   5.97444820e-01]\n",
      " [  9.90125908e-03   7.31609588e-02   5.40590429e-01   3.99445300e+00\n",
      "    4.87883592e+00   6.60278641e-01]\n",
      " [  8.95902970e-03   6.61987730e-02   4.89146448e-01   3.61433054e+00\n",
      "    5.39194757e+00   7.29720752e-01]\n",
      " [  8.10646530e-03   5.98991269e-02   4.42598009e-01   3.27038152e+00\n",
      "    5.95902365e+00   8.06466153e-01]\n",
      " [  7.33503313e-03   5.41989713e-02   4.00479240e-01   2.95916357e+00\n",
      "    6.58573963e+00   8.91282939e-01]\n",
      " [  6.63701244e-03   4.90412573e-02   3.62368601e-01   2.67756192e+00\n",
      "    7.27836792e+00   9.85019983e-01]\n",
      " [  6.00541720e-03   4.43743646e-02   3.27884669e-01   2.42275822e+00\n",
      "    8.04384055e+00   1.08861544e+00]\n",
      " [  5.43392619e-03   4.01515855e-02   2.96682318e-01   2.19220229e+00\n",
      "    8.88981865e+00   1.20310612e+00]\n",
      " [  4.91681975e-03   3.63306569e-02   2.68449262e-01   1.98358666e+00\n",
      "    9.82476904e+00   1.32963790e+00]\n",
      " [  4.44892249e-03   3.28733378e-02   2.42902937e-01   1.79482343e+00\n",
      "    1.08580490e+01   1.46947714e+00]\n",
      " [  3.64246966e-03   2.69144126e-02   1.98872105e-01   1.46947714e+00\n",
      "    1.08580490e+01   1.79482343e+00]\n",
      " [  3.29584284e-03   2.43531676e-02   1.79946922e-01   1.32963790e+00\n",
      "    9.82476904e+00   1.98358666e+00]\n",
      " [  2.98220193e-03   2.20356573e-02   1.62822708e-01   1.20310612e+00\n",
      "    8.88981865e+00   2.19220229e+00]\n",
      " [  2.69840789e-03   1.99386873e-02   1.47328079e-01   1.08861544e+00\n",
      "    8.04384055e+00   2.42275822e+00]\n",
      " [  2.44162043e-03   1.80412703e-02   1.33307958e-01   9.85019983e-01\n",
      "    7.27836792e+00   2.67756192e+00]\n",
      " [  2.20926952e-03   1.63244165e-02   1.20622029e-01   8.91282939e-01\n",
      "    6.58573963e+00   2.95916357e+00]\n",
      " [  1.99902973e-03   1.47709428e-02   1.09143325e-01   8.06466153e-01\n",
      "    5.95902365e+00   3.27038152e+00]\n",
      " [  1.80879690e-03   1.33653018e-02   9.87569646e-02   7.29720752e-01\n",
      "    5.39194757e+00   3.61433054e+00]\n",
      " [  1.63666712e-03   1.20934251e-02   8.93589969e-02   6.60278641e-01\n",
      "    4.87883592e+00   3.99445300e+00]\n",
      " [  1.48091765e-03   1.09425836e-02   8.08553640e-02   5.97444820e-01\n",
      "    4.41455329e+00   4.41455329e+00]\n",
      " [  1.33998970e-03   9.90125908e-03   7.31609588e-02   5.40590429e-01\n",
      "    3.99445300e+00   4.87883592e+00]\n",
      " [  1.21247282e-03   8.95902970e-03   6.61987730e-02   4.89146448e-01\n",
      "    3.61433054e+00   5.39194757e+00]\n",
      " [  1.09709078e-03   8.10646530e-03   5.98991269e-02   4.42598009e-01\n",
      "    3.27038152e+00   5.95902365e+00]\n",
      " [  9.92688787e-04   7.33503313e-03   5.41989713e-02   4.00479240e-01\n",
      "    2.95916357e+00   6.58573963e+00]\n",
      " [  8.98221959e-04   6.63701244e-03   4.90412573e-02   3.62368601e-01\n",
      "    2.67756192e+00   7.27836792e+00]\n",
      " [  8.12744838e-04   6.00541720e-03   4.43743646e-02   3.27884669e-01\n",
      "    2.42275822e+00   8.04384055e+00]\n",
      " [  7.35401941e-04   5.43392619e-03   4.01515855e-02   2.96682318e-01\n",
      "    2.19220229e+00   8.88981865e+00]\n",
      " [  6.65419193e-04   4.91681975e-03   3.63306569e-02   2.68449262e-01\n",
      "    1.98358666e+00   9.82476904e+00]\n",
      " [  6.02096185e-04   4.44892249e-03   3.28733378e-02   2.42902937e-01\n",
      "    1.79482343e+00   1.08580490e+01]]\n",
      "[[  1.20000000e+01   1.08580490e+01   9.82476904e+00 ...,   8.12744838e-04\n",
      "    7.35401941e-04   6.65419193e-04]\n",
      " [  1.08580490e+01   1.20000000e+01   1.08580490e+01 ...,   8.98221959e-04\n",
      "    8.12744838e-04   7.35401941e-04]\n",
      " [  9.82476904e+00   1.08580490e+01   1.20000000e+01 ...,   9.92688787e-04\n",
      "    8.98221959e-04   8.12744838e-04]\n",
      " ..., \n",
      " [  8.12744838e-04   8.98221959e-04   9.92688787e-04 ...,   1.20000000e+01\n",
      "    1.08580490e+01   9.82476904e+00]\n",
      " [  7.35401941e-04   8.12744838e-04   8.98221959e-04 ...,   1.08580490e+01\n",
      "    1.20000000e+01   1.08580490e+01]\n",
      " [  6.65419193e-04   7.35401941e-04   8.12744838e-04 ...,   9.82476904e+00\n",
      "    1.08580490e+01   1.20000000e+01]]\n"
     ]
    }
   ],
   "source": [
    "C_observation = np.array([[C[i][j] for i in observation_indexes] for j in observation_indexes])\n",
    "C_observation_unknown = np.array([[C[i][j] for i in observation_indexes] for j in unknown_indexes])\n",
    "C_unknown = np.array([[C[i][j] for i in unknown_indexes] for j in unknown_indexes])\n",
    "print(C_observation)\n",
    "print(C_observation_unknown)\n",
    "print(C_unknown)"
   ]
  },
  {
   "cell_type": "markdown",
   "metadata": {},
   "source": [
    "Calculer l'espérance conditionnelle des composantes non observées connaissant les observations et la représenter avec les données."
   ]
  },
  {
   "cell_type": "code",
   "execution_count": 50,
   "metadata": {},
   "outputs": [
    {
     "name": "stdout",
     "output_type": "stream",
     "text": [
      "[-5. -5. -5. -5. -5. -5. -5. -5. -5. -5. -5. -5. -5. -5. -5. -5. -5. -5.\n",
      " -5. -5. -5. -5. -5. -5. -5. -5. -5. -5. -5. -5. -5. -5. -5. -5. -5. -5.\n",
      " -5. -5. -5. -5. -5. -5. -5. -5. -5. -5. -5. -5. -5. -5. -5. -5. -5. -5.\n",
      " -5. -5. -5. -5. -5. -5. -5. -5. -5. -5. -5. -5. -5. -5. -5. -5. -5. -5.\n",
      " -5. -5. -5. -5. -5. -5. -5. -5. -5. -5. -5. -5. -5. -5. -5. -5. -5. -5.\n",
      " -5. -5. -5. -5. -5.]\n"
     ]
    },
    {
     "data": {
      "image/png": "[encoded data removed]",
      "text/plain": [
       "<matplotlib.figure.Figure at 0x1bdce04c080>"
      ]
     },
     "metadata": {},
     "output_type": "display_data"
    }
   ],
   "source": [
    "my=mu*np.ones(N-n)\n",
    "print (my)\n",
    "mz=mu*np.ones(n)\n",
    "phiz=my+np.dot(C_observation_unknown, np.dot(np.linalg.inv(C_observation),z-mz))\n",
    "\n",
    "plt.scatter(unknown_indexes,phiz)\n",
    "plt.scatter(observation_indexes,z)\n",
    "plt.show()"
   ]
  },
  {
   "cell_type": "markdown",
   "metadata": {},
   "source": [
    "Calculer la matrice de variance conditionnelle et tracer sa diagonale (variance conditionnelle) en fonction de la position. Commenter."
   ]
  },
  {
   "cell_type": "markdown",
   "metadata": {},
   "source": [
    "7. Effectuer une simulation conditionnelle. Sur un même graphique, tracer la simulation ainsi que les données et l'espérance conditionnelle. Commenter."
   ]
  },
  {
   "cell_type": "markdown",
   "metadata": {},
   "source": [
    "8. Ecrire une fonction qui calcule la longueur du câble en fonction du vecteur des profondeurs et du pas de discrétisation."
   ]
  },
  {
   "cell_type": "markdown",
   "metadata": {},
   "source": [
    "9. Utiliser cette fonction pour calculer la longueur du câble à partir de 100 simulations. Comparer l'espérance conditionnelle (estimée) de la longueur avec la longueur de l'espérance conditionnelle."
   ]
  },
  {
   "cell_type": "markdown",
   "metadata": {},
   "source": [
    "10. Représenter la suite $M_n$ des moyennes des longueurs de câbles en fonction du nombre de simulations. Commenter."
   ]
  },
  {
   "cell_type": "markdown",
   "metadata": {},
   "source": [
    "11. Représenter l'histogramme des longueurs de câbles générées."
   ]
  },
  {
   "cell_type": "markdown",
   "metadata": {},
   "source": [
    "12. Donner un intervalle de confiance à 95% de la longueur du câble par 2 méthodes différentes. Commenter."
   ]
  },
  {
   "cell_type": "markdown",
   "metadata": {},
   "source": [
    "13. Donner une estimation de la probabilité que la longueur du câble dépasse 525 m."
   ]
  },
  {
   "cell_type": "markdown",
   "metadata": {},
   "source": [
    "14. Reprendre les questions précédentes avec 1000, 10000 puis 100000 simulations. Commenter."
   ]
  }
 ],
 "metadata": {
  "@webio": {
   "lastCommId": "5ceb69a5bbd14071b254c2439a58ac4b",
   "lastKernelId": "0e923419-c540-42c1-ab5f-d0e05ff4521c"
  },
  "kernelspec": {
   "display_name": "Python 3",
   "language": "python",
   "name": "python3"
  },
  "language_info": {
   "codemirror_mode": {
    "name": "ipython",
    "version": 3
   },
   "file_extension": ".py",
   "mimetype": "text/x-python",
   "name": "python",
   "nbconvert_exporter": "python",
   "pygments_lexer": "ipython3",
   "version": "3.6.1"
  }
 },
 "nbformat": 4,
 "nbformat_minor": 2
}
